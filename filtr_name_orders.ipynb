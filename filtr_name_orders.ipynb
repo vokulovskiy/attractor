{
 "cells": [
  {
   "cell_type": "code",
   "execution_count": 8,
   "metadata": {},
   "outputs": [],
   "source": [
    "usr = 'vokulovskiy'\n",
    "pwd = 'OsPl27FLJC7c8N6t'\n",
    "host = '212.24.35.176'\n",
    "port = 10573"
   ]
  },
  {
   "cell_type": "code",
   "execution_count": 54,
   "metadata": {},
   "outputs": [
    {
     "name": "stdout",
     "output_type": "stream",
     "text": [
      "Connected!\n",
      "-1 472437.0 Оказание услуг по предоставлению прав использования на условиях простой (неисключительной) лицензии программного обеспечения для нужд ФГБВУ \"Центррегионводхоз\"\n",
      "-1 28036.8 УСЛУГИ ПО ПРЕДОСТАВЛЕНИЮ ЛИЦЕНЗИИ ПРОСТОЙ (НЕИСКЛЮЧИТЕЛЬНОЙ) НА ПРОГРАММНОЕ ОБЕСПЕЧЕНИЕ KASPERSKY\n",
      "-1 337025.0 Оказание услуг по продлению неисключительных (пользовательских) прав на антивирусное программное обеспечение\n",
      "-1 77000.0 Оказание услуг по поставке и передаче прав на использование программного обеспечения ViPNet Administrator 4.x (КС3)  и ViPNet Client 4.x (КС2) для защищенной сети № 2088\n",
      "-1 87965.88 Оказание услуг по приобретению неисключительных (пользовательских) лицензионных прав (продление) на программное обеспечение\n",
      "-1 568534.8 Оказание услуг по предоставлению лицензий на право использовать компьютерное программное обеспечение (средства криптографической защиты информации) для нужд ФГБУ «НМХЦ им. Н.И. Пирогова» Минздрава России\n"
     ]
    },
    {
     "name": "stderr",
     "output_type": "stream",
     "text": [
      "/tmp/ipykernel_1426462/3622125351.py:32: UserWarning: pandas only supports SQLAlchemy connectable (engine/connection) or database string URI or sqlite3 DBAPI2 connection. Other DBAPI2 objects are not tested. Please consider using SQLAlchemy.\n",
      "  df_db = pd.read_sql(\"SELECT sk,title,price,fit FROM gz44_ord WHERE fit=0 LIMIT 10\", conn)\n"
     ]
    },
    {
     "name": "stdout",
     "output_type": "stream",
     "text": [
      "-1 92666.6 Оказание услуг по продлению права использования ПО\n",
      "-1 751600.0 Оказание услуг по предоставлению простого (неисключительного) права на получение обновлений, эксплуатируемого программного продукта «Медицинская Информационная Система «Комплекс Программных Средств «Система Автоматизации Медико-Страхового Обслуживания Населения» «САМСОН»\n",
      "1 136800.0 оказание услуги по сопровождению компьютерного программного обеспечения «MedPOINT» в части пакета лицензий БАЗОВАЯ, СТАНДАРТ 60, ПОРТАЛ\n",
      "-1 48394959.17 Оказание услуг по предоставлению неисключительных прав на средства защиты информации, мониторингу состояния информационной безопасности и обслуживанию средств защиты информации серверного сегмента Единой информационной системы здравоохранения Пермского края\n",
      "====================================================================================================\n",
      "Empty DataFrame\n",
      "Columns: [sk, title, price, fit]\n",
      "Index: []\n"
     ]
    },
    {
     "name": "stderr",
     "output_type": "stream",
     "text": [
      "/tmp/ipykernel_1426462/3622125351.py:55: UserWarning: pandas only supports SQLAlchemy connectable (engine/connection) or database string URI or sqlite3 DBAPI2 connection. Other DBAPI2 objects are not tested. Please consider using SQLAlchemy.\n",
      "  df = pd.read_sql(\"SELECT sk,title,price,fit FROM gz44_ord WHERE fit!=0\", conn)\n"
     ]
    }
   ],
   "source": [
    "import psycopg2\n",
    "import pandas as pd\n",
    "import re\n",
    "\n",
    "# pip install psycopg2-binary\n",
    "# poetry add psycopg2-binary\n",
    "\n",
    "min_price = 50000\n",
    "usr = 'vokulovskiy'\n",
    "pwd = 'OsPl27FLJC7c8N6t'\n",
    "host = '212.24.35.176'\n",
    "port = 10573\n",
    "\n",
    "def search_keys(text, keys):\n",
    "    '''\n",
    "    Функция считает количество ключевых слов/фраз в тексте\n",
    "    На входе - текст, список ключевых слов в виде списка фраз в формате regex\n",
    "    На выходе - словарь с ключами и их количеством\n",
    "    '''\n",
    "    text =  text.lower().strip() # переводим в нижний регистр\n",
    "    text = ' '.join(text.split()) # удаляем двойные пробелы\n",
    "    cnt= {l[0]:len(l) for k in keys if len(l:=re.findall(k.lower(), text))>0}       \n",
    "    return cnt\n",
    "\n",
    "try:\n",
    "    # пытаемся подключиться к базе данных\n",
    "    conn = psycopg2.connect(dbname='attractor-raw', user=usr, password=pwd, host=host, port=port)\n",
    "    print('Connected!')\n",
    "except:\n",
    "    # в случае сбоя подключения будет выведено сообщение  в STDOUT\n",
    "    print('Can`t establish connection to database')\n",
    "\n",
    "conn.autocommit = True  # устанавливаем актокоммит\n",
    "\n",
    "df_db = pd.read_sql(\"SELECT sk,title,price,fit FROM gz44_ord WHERE fit=0 LIMIT 10\", conn)\n",
    "df_keys = pd.read_csv('key_words.csv',delimiter=';')\n",
    "# Negative keys\n",
    "keys_n = df_keys[(df_keys.np==0)].key.to_list()\n",
    "# Positive keys\n",
    "keys_p = df_keys[(df_keys.np==1)].key.to_list()\n",
    "\n",
    "with conn.cursor() as curs:\n",
    "    for idx,row in df_db.iterrows():\n",
    "        if row.price < min_price:\n",
    "            row.fit = -1\n",
    "        else:\n",
    "            text =  row.title.lower().strip() # переводим в нижний регистр\n",
    "            count_n = len(search_keys(text, keys_n)) \n",
    "            count_p = len(search_keys(text, keys_p)) \n",
    "            if count_p==0 and count_n > 0:\n",
    "                row.fit = -1\n",
    "            else:\n",
    "                row.fit = 1\n",
    "        print(row.fit, row.price, row.title)\n",
    "        sql = f\"UPDATE gz44_ord SET fit = {row.fit} / 2 WHERE sk = {row.sk};\"\n",
    "        curs.execute(sql)\n",
    "print('='*100)\n",
    "df = pd.read_sql(\"SELECT sk,title,price,fit FROM gz44_ord WHERE fit!=0\", conn)\n",
    "print(df)\n",
    "conn.close()"
   ]
  }
 ],
 "metadata": {
  "kernelspec": {
   "display_name": ".venv",
   "language": "python",
   "name": "python3"
  },
  "language_info": {
   "codemirror_mode": {
    "name": "ipython",
    "version": 3
   },
   "file_extension": ".py",
   "mimetype": "text/x-python",
   "name": "python",
   "nbconvert_exporter": "python",
   "pygments_lexer": "ipython3",
   "version": "3.10.12"
  }
 },
 "nbformat": 4,
 "nbformat_minor": 2
}
